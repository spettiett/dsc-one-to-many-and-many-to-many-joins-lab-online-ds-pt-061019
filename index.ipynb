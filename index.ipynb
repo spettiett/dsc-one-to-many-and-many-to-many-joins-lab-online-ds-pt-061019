{
 "cells": [
  {
   "cell_type": "markdown",
   "metadata": {},
   "source": [
    "# One-to-Many and Many-to-Many Joins - Lab"
   ]
  },
  {
   "cell_type": "markdown",
   "metadata": {},
   "source": [
    "## Introduction"
   ]
  },
  {
   "cell_type": "markdown",
   "metadata": {},
   "source": [
    "In this lab, you'll practice your knowledge on one-to-many and many-to-many relationships!"
   ]
  },
  {
   "cell_type": "markdown",
   "metadata": {},
   "source": [
    "## Objectives"
   ]
  },
  {
   "cell_type": "markdown",
   "metadata": {},
   "source": [
    "You will be able to:\n",
    "- Query data using one-to-many and many-to-many joins\n",
    "- Predict the resulting size of one-to-many and many-to-many joins"
   ]
  },
  {
   "cell_type": "markdown",
   "metadata": {},
   "source": [
    "## One-to-Many and Many-to-Many Joins\n",
    "<img src='images/Database-Schema.png' width=\"600\">"
   ]
  },
  {
   "cell_type": "markdown",
   "metadata": {},
   "source": [
    "## Connect to the Database"
   ]
  },
  {
   "cell_type": "code",
   "execution_count": 1,
   "metadata": {},
   "outputs": [],
   "source": [
    "#Your code here\n",
    "import sqlite3\n",
    "conn = sqlite3.connect(\"./data.sqlite\")\n",
    "c = conn.cursor()"
   ]
  },
  {
   "cell_type": "markdown",
   "metadata": {},
   "source": [
    "## Employees and their Office (a One-to-One join)\n",
    "\n",
    "Return a list of all of the employees with their first name, last name and the city and state of the office that they work out of (if they have one). Include all employees and order them by their first name, then their last name."
   ]
  },
  {
   "cell_type": "code",
   "execution_count": 4,
   "metadata": {},
   "outputs": [
    {
     "data": {
      "text/html": [
       "<div>\n",
       "<style scoped>\n",
       "    .dataframe tbody tr th:only-of-type {\n",
       "        vertical-align: middle;\n",
       "    }\n",
       "\n",
       "    .dataframe tbody tr th {\n",
       "        vertical-align: top;\n",
       "    }\n",
       "\n",
       "    .dataframe thead th {\n",
       "        text-align: right;\n",
       "    }\n",
       "</style>\n",
       "<table border=\"1\" class=\"dataframe\">\n",
       "  <thead>\n",
       "    <tr style=\"text-align: right;\">\n",
       "      <th></th>\n",
       "      <th>firstName</th>\n",
       "      <th>lastName</th>\n",
       "      <th>city</th>\n",
       "      <th>state</th>\n",
       "    </tr>\n",
       "  </thead>\n",
       "  <tbody>\n",
       "    <tr>\n",
       "      <th>0</th>\n",
       "      <td>Andy</td>\n",
       "      <td>Fixter</td>\n",
       "      <td>Sydney</td>\n",
       "      <td></td>\n",
       "    </tr>\n",
       "    <tr>\n",
       "      <th>1</th>\n",
       "      <td>Anthony</td>\n",
       "      <td>Bow</td>\n",
       "      <td>San Francisco</td>\n",
       "      <td>CA</td>\n",
       "    </tr>\n",
       "    <tr>\n",
       "      <th>2</th>\n",
       "      <td>Barry</td>\n",
       "      <td>Jones</td>\n",
       "      <td>London</td>\n",
       "      <td></td>\n",
       "    </tr>\n",
       "    <tr>\n",
       "      <th>3</th>\n",
       "      <td>Diane</td>\n",
       "      <td>Murphy</td>\n",
       "      <td>San Francisco</td>\n",
       "      <td>CA</td>\n",
       "    </tr>\n",
       "    <tr>\n",
       "      <th>4</th>\n",
       "      <td>Foon Yue</td>\n",
       "      <td>Tseng</td>\n",
       "      <td>NYC</td>\n",
       "      <td>NY</td>\n",
       "    </tr>\n",
       "  </tbody>\n",
       "</table>\n",
       "</div>"
      ],
      "text/plain": [
       "  firstName lastName           city state\n",
       "0      Andy   Fixter         Sydney      \n",
       "1   Anthony      Bow  San Francisco    CA\n",
       "2     Barry    Jones         London      \n",
       "3     Diane   Murphy  San Francisco    CA\n",
       "4  Foon Yue    Tseng            NYC    NY"
      ]
     },
     "execution_count": 4,
     "metadata": {},
     "output_type": "execute_result"
    }
   ],
   "source": [
    "#Your code here\n",
    "import pandas as pd\n",
    "c.execute(\"\"\" select firstname, lastname, city, state from employees join offices\n",
    "            using(officeCode)\n",
    "            order by firstname ASC, lastname ASC;\"\"\")\n",
    "df = pd.DataFrame(c.fetchall())\n",
    "df.columns = [x[0]  for x in c.description]\n",
    "df.head()"
   ]
  },
  {
   "cell_type": "markdown",
   "metadata": {},
   "source": [
    "## Customers and their Orders (a One-to-Many join)\n",
    "\n",
    "Return a list of all the customers first and last names along with a record for each of their order numbers, order dates and statuses."
   ]
  },
  {
   "cell_type": "code",
   "execution_count": 7,
   "metadata": {},
   "outputs": [
    {
     "name": "stdout",
     "output_type": "stream",
     "text": [
      "Number of Rows: 326\n"
     ]
    },
    {
     "data": {
      "text/html": [
       "<div>\n",
       "<style scoped>\n",
       "    .dataframe tbody tr th:only-of-type {\n",
       "        vertical-align: middle;\n",
       "    }\n",
       "\n",
       "    .dataframe tbody tr th {\n",
       "        vertical-align: top;\n",
       "    }\n",
       "\n",
       "    .dataframe thead th {\n",
       "        text-align: right;\n",
       "    }\n",
       "</style>\n",
       "<table border=\"1\" class=\"dataframe\">\n",
       "  <thead>\n",
       "    <tr style=\"text-align: right;\">\n",
       "      <th></th>\n",
       "      <th>customerName</th>\n",
       "      <th>orderNumber</th>\n",
       "      <th>orderDate</th>\n",
       "      <th>status</th>\n",
       "    </tr>\n",
       "  </thead>\n",
       "  <tbody>\n",
       "    <tr>\n",
       "      <th>0</th>\n",
       "      <td>giftsbymail.co.uk</td>\n",
       "      <td>10232</td>\n",
       "      <td>2004-03-20</td>\n",
       "      <td>Shipped</td>\n",
       "    </tr>\n",
       "    <tr>\n",
       "      <th>1</th>\n",
       "      <td>giftsbymail.co.uk</td>\n",
       "      <td>10316</td>\n",
       "      <td>2004-11-01</td>\n",
       "      <td>Shipped</td>\n",
       "    </tr>\n",
       "    <tr>\n",
       "      <th>2</th>\n",
       "      <td>West Coast Collectables Co.</td>\n",
       "      <td>10199</td>\n",
       "      <td>2003-12-01</td>\n",
       "      <td>Shipped</td>\n",
       "    </tr>\n",
       "    <tr>\n",
       "      <th>3</th>\n",
       "      <td>West Coast Collectables Co.</td>\n",
       "      <td>10215</td>\n",
       "      <td>2004-01-29</td>\n",
       "      <td>Shipped</td>\n",
       "    </tr>\n",
       "    <tr>\n",
       "      <th>4</th>\n",
       "      <td>Volvo Model Replicas, Co</td>\n",
       "      <td>10112</td>\n",
       "      <td>2003-03-24</td>\n",
       "      <td>Shipped</td>\n",
       "    </tr>\n",
       "  </tbody>\n",
       "</table>\n",
       "</div>"
      ],
      "text/plain": [
       "                  customerName orderNumber   orderDate   status\n",
       "0            giftsbymail.co.uk       10232  2004-03-20  Shipped\n",
       "1            giftsbymail.co.uk       10316  2004-11-01  Shipped\n",
       "2  West Coast Collectables Co.       10199  2003-12-01  Shipped\n",
       "3  West Coast Collectables Co.       10215  2004-01-29  Shipped\n",
       "4     Volvo Model Replicas, Co       10112  2003-03-24  Shipped"
      ]
     },
     "execution_count": 7,
     "metadata": {},
     "output_type": "execute_result"
    }
   ],
   "source": [
    "# Your code here\n",
    "c.execute(\"\"\" select customername, ordernumber, orderdate, status from customers join orders\n",
    "            using(customernumber)\n",
    "            order by customername DESC;\"\"\")\n",
    "df_cust = pd.DataFrame(c.fetchall())\n",
    "df_cust.columns = [x[0]  for x in c.description]\n",
    "print(f\"Number of Rows: {len(df_cust)}\")\n",
    "df_cust.head()"
   ]
  },
  {
   "cell_type": "markdown",
   "metadata": {},
   "source": [
    "## Customers and their Payments (another One-to-Many join)\n",
    "\n",
    "Return a list of customers first and last names along with details about their payments including the amount and date of payments. Sort these results in descending order by the payment amount."
   ]
  },
  {
   "cell_type": "code",
   "execution_count": 9,
   "metadata": {},
   "outputs": [
    {
     "name": "stdout",
     "output_type": "stream",
     "text": [
      "Number of Rows: 273\n"
     ]
    },
    {
     "data": {
      "text/html": [
       "<div>\n",
       "<style scoped>\n",
       "    .dataframe tbody tr th:only-of-type {\n",
       "        vertical-align: middle;\n",
       "    }\n",
       "\n",
       "    .dataframe tbody tr th {\n",
       "        vertical-align: top;\n",
       "    }\n",
       "\n",
       "    .dataframe thead th {\n",
       "        text-align: right;\n",
       "    }\n",
       "</style>\n",
       "<table border=\"1\" class=\"dataframe\">\n",
       "  <thead>\n",
       "    <tr style=\"text-align: right;\">\n",
       "      <th></th>\n",
       "      <th>customerName</th>\n",
       "      <th>paymentDate</th>\n",
       "      <th>amount</th>\n",
       "    </tr>\n",
       "  </thead>\n",
       "  <tbody>\n",
       "    <tr>\n",
       "      <th>0</th>\n",
       "      <td>AV Stores, Co.</td>\n",
       "      <td>2003-03-27</td>\n",
       "      <td>48425.69</td>\n",
       "    </tr>\n",
       "    <tr>\n",
       "      <th>1</th>\n",
       "      <td>AV Stores, Co.</td>\n",
       "      <td>2004-11-03</td>\n",
       "      <td>52825.29</td>\n",
       "    </tr>\n",
       "    <tr>\n",
       "      <th>2</th>\n",
       "      <td>AV Stores, Co.</td>\n",
       "      <td>2004-12-08</td>\n",
       "      <td>47159.11</td>\n",
       "    </tr>\n",
       "    <tr>\n",
       "      <th>3</th>\n",
       "      <td>Alpha Cognac</td>\n",
       "      <td>2003-07-21</td>\n",
       "      <td>14232.70</td>\n",
       "    </tr>\n",
       "    <tr>\n",
       "      <th>4</th>\n",
       "      <td>Alpha Cognac</td>\n",
       "      <td>2003-11-22</td>\n",
       "      <td>33818.34</td>\n",
       "    </tr>\n",
       "  </tbody>\n",
       "</table>\n",
       "</div>"
      ],
      "text/plain": [
       "     customerName paymentDate    amount\n",
       "0  AV Stores, Co.  2003-03-27  48425.69\n",
       "1  AV Stores, Co.  2004-11-03  52825.29\n",
       "2  AV Stores, Co.  2004-12-08  47159.11\n",
       "3    Alpha Cognac  2003-07-21  14232.70\n",
       "4    Alpha Cognac  2003-11-22  33818.34"
      ]
     },
     "execution_count": 9,
     "metadata": {},
     "output_type": "execute_result"
    }
   ],
   "source": [
    "# Your code here\n",
    "c.execute(\"\"\" select customername, paymentdate, amount from customers join payments\n",
    "            using(customernumber)\n",
    "            order by customername ASC;\"\"\")\n",
    "df_cust = pd.DataFrame(c.fetchall())\n",
    "df_cust.columns = [x[0]  for x in c.description]\n",
    "print(f\"Number of Rows: {len(df_cust)}\")\n",
    "df_cust.head()"
   ]
  },
  {
   "cell_type": "markdown",
   "metadata": {},
   "source": [
    "## Orders, Order details and Product Details (a Many-to-Many Join)"
   ]
  },
  {
   "cell_type": "markdown",
   "metadata": {},
   "source": [
    "Return a list of customer first and last names, product names, quantities, and date ordered for each of the customers and each of their orders. Sort these in descending order by the order date.\n",
    "\n",
    "Note: This will require joining 4 tables! This can be tricky! Give it a shot, and if you're still stuck, turn to the next section where you'll see how to write subqueries which can make complex queries such as this much simpler!"
   ]
  },
  {
   "cell_type": "code",
   "execution_count": 10,
   "metadata": {},
   "outputs": [
    {
     "name": "stdout",
     "output_type": "stream",
     "text": [
      "Number of Rows: 2996\n"
     ]
    },
    {
     "data": {
      "text/html": [
       "<div>\n",
       "<style scoped>\n",
       "    .dataframe tbody tr th:only-of-type {\n",
       "        vertical-align: middle;\n",
       "    }\n",
       "\n",
       "    .dataframe tbody tr th {\n",
       "        vertical-align: top;\n",
       "    }\n",
       "\n",
       "    .dataframe thead th {\n",
       "        text-align: right;\n",
       "    }\n",
       "</style>\n",
       "<table border=\"1\" class=\"dataframe\">\n",
       "  <thead>\n",
       "    <tr style=\"text-align: right;\">\n",
       "      <th></th>\n",
       "      <th>customerName</th>\n",
       "      <th>contactFirstName</th>\n",
       "      <th>contactLastName</th>\n",
       "      <th>productName</th>\n",
       "      <th>quantityOrdered</th>\n",
       "      <th>orderDate</th>\n",
       "    </tr>\n",
       "  </thead>\n",
       "  <tbody>\n",
       "    <tr>\n",
       "      <th>0</th>\n",
       "      <td>AV Stores, Co.</td>\n",
       "      <td>Rachel</td>\n",
       "      <td>Ashworth</td>\n",
       "      <td>1965 Aston Martin DB5</td>\n",
       "      <td>37</td>\n",
       "      <td>2003-03-18</td>\n",
       "    </tr>\n",
       "    <tr>\n",
       "      <th>1</th>\n",
       "      <td>AV Stores, Co.</td>\n",
       "      <td>Rachel</td>\n",
       "      <td>Ashworth</td>\n",
       "      <td>1917 Grand Touring Sedan</td>\n",
       "      <td>42</td>\n",
       "      <td>2003-03-18</td>\n",
       "    </tr>\n",
       "    <tr>\n",
       "      <th>2</th>\n",
       "      <td>AV Stores, Co.</td>\n",
       "      <td>Rachel</td>\n",
       "      <td>Ashworth</td>\n",
       "      <td>1911 Ford Town Car</td>\n",
       "      <td>32</td>\n",
       "      <td>2003-03-18</td>\n",
       "    </tr>\n",
       "    <tr>\n",
       "      <th>3</th>\n",
       "      <td>AV Stores, Co.</td>\n",
       "      <td>Rachel</td>\n",
       "      <td>Ashworth</td>\n",
       "      <td>1932 Model A Ford J-Coupe</td>\n",
       "      <td>33</td>\n",
       "      <td>2003-03-18</td>\n",
       "    </tr>\n",
       "    <tr>\n",
       "      <th>4</th>\n",
       "      <td>AV Stores, Co.</td>\n",
       "      <td>Rachel</td>\n",
       "      <td>Ashworth</td>\n",
       "      <td>1928 Mercedes-Benz SSK</td>\n",
       "      <td>31</td>\n",
       "      <td>2003-03-18</td>\n",
       "    </tr>\n",
       "  </tbody>\n",
       "</table>\n",
       "</div>"
      ],
      "text/plain": [
       "     customerName contactFirstName contactLastName                productName  \\\n",
       "0  AV Stores, Co.           Rachel        Ashworth      1965 Aston Martin DB5   \n",
       "1  AV Stores, Co.           Rachel        Ashworth   1917 Grand Touring Sedan   \n",
       "2  AV Stores, Co.           Rachel        Ashworth         1911 Ford Town Car   \n",
       "3  AV Stores, Co.           Rachel        Ashworth  1932 Model A Ford J-Coupe   \n",
       "4  AV Stores, Co.           Rachel        Ashworth     1928 Mercedes-Benz SSK   \n",
       "\n",
       "  quantityOrdered   orderDate  \n",
       "0              37  2003-03-18  \n",
       "1              42  2003-03-18  \n",
       "2              32  2003-03-18  \n",
       "3              33  2003-03-18  \n",
       "4              31  2003-03-18  "
      ]
     },
     "execution_count": 10,
     "metadata": {},
     "output_type": "execute_result"
    }
   ],
   "source": [
    "# Your code here\n",
    "c.execute(\"\"\" select customername, contactfirstname, contactlastname, \n",
    "            productname, quantityordered, orderdate\n",
    "            from customers c join orders o\n",
    "            using(customernumber)\n",
    "            join orderdetails od\n",
    "            using(ordernumber)\n",
    "            join products p\n",
    "            using(productcode)\n",
    "            order by customername ASC;\"\"\")\n",
    "df_ord_prod = pd.DataFrame(c.fetchall())\n",
    "df_ord_prod.columns = [x[0]  for x in c.description]\n",
    "print(f\"Number of Rows: {len(df_ord_prod)}\")\n",
    "df_ord_prod.head()"
   ]
  },
  {
   "cell_type": "markdown",
   "metadata": {},
   "source": [
    "## Summary"
   ]
  },
  {
   "cell_type": "markdown",
   "metadata": {},
   "source": [
    "In this lab, you practiced your knowledge on one-to-many and many-to-many relationships!"
   ]
  }
 ],
 "metadata": {
  "kernelspec": {
   "display_name": "Python 3",
   "language": "python",
   "name": "python3"
  },
  "language_info": {
   "codemirror_mode": {
    "name": "ipython",
    "version": 3
   },
   "file_extension": ".py",
   "mimetype": "text/x-python",
   "name": "python",
   "nbconvert_exporter": "python",
   "pygments_lexer": "ipython3",
   "version": "3.6.6"
  }
 },
 "nbformat": 4,
 "nbformat_minor": 2
}
